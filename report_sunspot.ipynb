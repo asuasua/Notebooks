{
 "cells": [
  {
   "cell_type": "code",
   "execution_count": 1,
   "id": "1f9b330d-fcb8-4b05-8ca6-b35abea7c9bc",
   "metadata": {
    "tags": []
   },
   "outputs": [],
   "source": [
    "import pandas as pd\n",
    "import numpy as np\n",
    "import os\n",
    "from time import time\n",
    "import seaborn as sns\n",
    "import matplotlib.pyplot as plt"
   ]
  },
  {
   "cell_type": "code",
   "execution_count": 2,
   "id": "6069b991-6966-4f9c-b76b-53680c16c26e",
   "metadata": {
    "tags": []
   },
   "outputs": [],
   "source": [
    "t0 = time()\n",
    "def print_time(time_value):\n",
    "    t1 = time()\n",
    "    total_minutes = round((t1- t0)/60, 4)\n",
    "    print('Total Minutes: ', total_minutes)\n"
   ]
  },
  {
   "cell_type": "code",
   "execution_count": 3,
   "id": "149cc6fd-5b7a-4940-9d6f-3fe747a9e7d4",
   "metadata": {
    "tags": []
   },
   "outputs": [
    {
     "name": "stdout",
     "output_type": "stream",
     "text": [
      "Number of Rows:  10000\n",
      "Total Minutes:  0.0763\n",
      "Number of Rows:  20000\n",
      "Total Minutes:  0.2453\n",
      "Number of Rows:  30000\n",
      "Total Minutes:  0.567\n",
      "Number of Rows:  40000\n",
      "Total Minutes:  1.0694\n",
      "Number of Rows:  50000\n",
      "Total Minutes:  1.7804\n",
      "Number of Rows:  60000\n",
      "Total Minutes:  2.7151\n",
      "Number of Rows:  70000\n",
      "Total Minutes:  3.9361\n",
      "....finished\n",
      "Shape:  (75637, 8)\n",
      "CPU times: user 4min 11s, sys: 30.4 s, total: 4min 42s\n",
      "Wall time: 4min 42s\n"
     ]
    },
    {
     "data": {
      "text/html": [
       "<div>\n",
       "<style scoped>\n",
       "    .dataframe tbody tr th:only-of-type {\n",
       "        vertical-align: middle;\n",
       "    }\n",
       "\n",
       "    .dataframe tbody tr th {\n",
       "        vertical-align: top;\n",
       "    }\n",
       "\n",
       "    .dataframe thead th {\n",
       "        text-align: right;\n",
       "    }\n",
       "</style>\n",
       "<table border=\"1\" class=\"dataframe\">\n",
       "  <thead>\n",
       "    <tr style=\"text-align: right;\">\n",
       "      <th></th>\n",
       "      <th>YEAR</th>\n",
       "      <th>MONTH</th>\n",
       "      <th>DAY</th>\n",
       "      <th>DATE_FRACTION</th>\n",
       "      <th>DAILY_SUNSPOT_NUMBER</th>\n",
       "      <th>DAILY_SD_STATIONS</th>\n",
       "      <th>NUMBER_OBSERRVATIONS</th>\n",
       "      <th>INDICATOR_PROVISIONAL</th>\n",
       "    </tr>\n",
       "  </thead>\n",
       "  <tbody>\n",
       "    <tr>\n",
       "      <th>0</th>\n",
       "      <td>1818</td>\n",
       "      <td>1</td>\n",
       "      <td>01</td>\n",
       "      <td>1818.001</td>\n",
       "      <td>-1</td>\n",
       "      <td>-1.0</td>\n",
       "      <td>0</td>\n",
       "      <td>NULL</td>\n",
       "    </tr>\n",
       "    <tr>\n",
       "      <th>0</th>\n",
       "      <td>1818</td>\n",
       "      <td>1</td>\n",
       "      <td>02</td>\n",
       "      <td>1818.004</td>\n",
       "      <td>-1</td>\n",
       "      <td>-1.0</td>\n",
       "      <td>0</td>\n",
       "      <td>NULL</td>\n",
       "    </tr>\n",
       "    <tr>\n",
       "      <th>0</th>\n",
       "      <td>1818</td>\n",
       "      <td>1</td>\n",
       "      <td>03</td>\n",
       "      <td>1818.007</td>\n",
       "      <td>-1</td>\n",
       "      <td>-1.0</td>\n",
       "      <td>0</td>\n",
       "      <td>NULL</td>\n",
       "    </tr>\n",
       "    <tr>\n",
       "      <th>0</th>\n",
       "      <td>1818</td>\n",
       "      <td>1</td>\n",
       "      <td>04</td>\n",
       "      <td>1818.010</td>\n",
       "      <td>-1</td>\n",
       "      <td>-1.0</td>\n",
       "      <td>0</td>\n",
       "      <td>NULL</td>\n",
       "    </tr>\n",
       "    <tr>\n",
       "      <th>0</th>\n",
       "      <td>1818</td>\n",
       "      <td>1</td>\n",
       "      <td>05</td>\n",
       "      <td>1818.012</td>\n",
       "      <td>-1</td>\n",
       "      <td>-1.0</td>\n",
       "      <td>0</td>\n",
       "      <td>NULL</td>\n",
       "    </tr>\n",
       "  </tbody>\n",
       "</table>\n",
       "</div>"
      ],
      "text/plain": [
       "   YEAR MONTH DAY DATE_FRACTION DAILY_SUNSPOT_NUMBER DAILY_SD_STATIONS  \\\n",
       "0  1818     1  01      1818.001                   -1              -1.0   \n",
       "0  1818     1  02      1818.004                   -1              -1.0   \n",
       "0  1818     1  03      1818.007                   -1              -1.0   \n",
       "0  1818     1  04      1818.010                   -1              -1.0   \n",
       "0  1818     1  05      1818.012                   -1              -1.0   \n",
       "\n",
       "  NUMBER_OBSERRVATIONS INDICATOR_PROVISIONAL  \n",
       "0                    0                  NULL  \n",
       "0                    0                  NULL  \n",
       "0                    0                  NULL  \n",
       "0                    0                  NULL  \n",
       "0                    0                  NULL  "
      ]
     },
     "execution_count": 3,
     "metadata": {},
     "output_type": "execute_result"
    }
   ],
   "source": [
    "%%time\n",
    "dir_base = ''\n",
    "dir_next = ''\n",
    "file_name = 'data_daily_sunspot_count_20180101_20250131'\n",
    "file_format = '.txt'\n",
    "input_path = dir_base+dir_next+file_name+file_format\n",
    "file_opened = open(input_path, \"r\")\n",
    "\n",
    "list_columns = ['YEAR', 'MONTH', 'DAY', 'DATE_FRACTION', 'DAILY_SUNSPOT_NUMBER', 'DAILY_SD_STATIONS', 'NUMBER_OBSERRVATIONS', 'INDICATOR_PROVISIONAL']\n",
    "df = pd.DataFrame([], columns=list_columns)\n",
    "print_times = True\n",
    "counter = 0\n",
    "t0 = time()\n",
    "for data_row in file_opened.readlines():\n",
    "    row_split = data_row.split()\n",
    "    if len(row_split)==7:\n",
    "        row_split = row_split + ['NULL']\n",
    "    ser_row = pd.DataFrame(row_split).T\n",
    "    ser_row.columns = list_columns\n",
    "    df = pd.concat([df, ser_row], axis=0)\n",
    "    if print_times:\n",
    "        counter +=1\n",
    "        if counter % 10000 == 0:   \n",
    "            print('Number of Rows: ', counter)\n",
    "            print_time(t0)\n",
    "print('....finished')\n",
    "print('Shape: ', df.shape)\n",
    "df.head()"
   ]
  },
  {
   "cell_type": "code",
   "execution_count": 4,
   "id": "9b1b8ee0-c31d-4e32-ae28-01c8d21938bb",
   "metadata": {},
   "outputs": [
    {
     "data": {
      "image/png": "[encoded data removed]",
      "text/plain": [
       "<Figure size 640x480 with 1 Axes>"
      ]
     },
     "metadata": {},
     "output_type": "display_data"
    }
   ],
   "source": [
    "### clean data\n",
    "\n",
    "df['YEAR'] = df['YEAR'].astype(int)\n",
    "df['MONTH'] = df['MONTH'].astype(int)\n",
    "df['DAY'] = df['DAY'].astype(int)\n",
    "df['DAILY_SUNSPOT_NUMBER'] = df['DAILY_SUNSPOT_NUMBER'].astype(int)\n",
    "df['NUMBER_OBSERRVATIONS'] = df['NUMBER_OBSERRVATIONS'].astype(int)\n",
    "\n",
    "df['DAILY_SUNSPOT_NUMBER'] = df['DAILY_SUNSPOT_NUMBER'].astype(int)\n",
    "df['DAILY_SUNSPOT_NUMBER'] = df['DAILY_SUNSPOT_NUMBER'].replace(-1, 0)\n",
    "\n",
    "### add some padding to the zeros to concatenate the month and day\n",
    "def add_str_padding(int_input):\n",
    "    str_out = None\n",
    "    if len(str(int_input)) >1 :\n",
    "        str_out = str(int_input)\n",
    "    else:\n",
    "        str_out = '0'+str(int_input)\n",
    "    return str_out\n",
    "\n",
    "df['MONTH_STR'] = df['MONTH'].apply(lambda x: add_str_padding(x))\n",
    "df['YEAR_MONTH'] = df['YEAR'].astype(str) + df['MONTH_STR'].astype(str)\n",
    "df['YEAR_MONTH'] = df['YEAR_MONTH'].astype(int)/100\n",
    "df_pivot = pd.pivot_table(\n",
    "    df,\n",
    "    values='DAILY_SUNSPOT_NUMBER',      # Column to aggregate\n",
    "    index='YEAR_MONTH',        # Rows of the pivot table\n",
    "    columns=None,  # Columns of the pivot table\n",
    "    aggfunc='sum'        # Aggregation function (you can use 'mean', 'count', etc.)\n",
    ")\n",
    "df_pivot = df_pivot.reset_index()\n",
    "\n",
    "sns.lineplot(data=df_pivot, x='YEAR_MONTH', y='DAILY_SUNSPOT_NUMBER')\n",
    "plt.title('Total Monthly Sunspot Counts 1818 - 2025') \n",
    "plt.show()"
   ]
  },
  {
   "cell_type": "code",
   "execution_count": null,
   "id": "33f77b97-6b86-4cdc-8f3f-92412434402b",
   "metadata": {
    "tags": []
   },
   "outputs": [],
   "source": [
    "\n",
    "\n",
    "\n",
    "sns.lineplot(df, x='DATE_FRACTION', y='DAILY_SUNSPOT_NUMBER')"
   ]
  },
  {
   "cell_type": "code",
   "execution_count": null,
   "id": "f71fd3a3-936b-472e-bb41-126cc2def91c",
   "metadata": {},
   "outputs": [],
   "source": []
  },
  {
   "cell_type": "markdown",
   "id": "c76fd459-e83f-4255-bd7e-cad16ba68d4a",
   "metadata": {},
   "source": [
    "### Export Data"
   ]
  },
  {
   "cell_type": "code",
   "execution_count": null,
   "id": "9476f068-83cd-44c8-854f-ef158b9e715f",
   "metadata": {
    "tags": []
   },
   "outputs": [],
   "source": [
    "def create_file_path(dir_base, dir_next):\n",
    "    if not os.path.exists(dir_base+dir_next):\n",
    "        os.mkdir(dir_base+dir_next)\n",
    "        print('Path Created: ', dir_base+dir_next)\n",
    "\n",
    "def create_file_input(dir_base, dir_next, file_name, file_type):\n",
    "    str_out = dir_base+dir_next+file_name+file_type\n",
    "    return str_out"
   ]
  },
  {
   "cell_type": "code",
   "execution_count": null,
   "id": "e6c9a7dc-96c3-4db3-8d58-229494834c07",
   "metadata": {
    "tags": []
   },
   "outputs": [],
   "source": [
    "dir_base = 'report_sunspots/'\n",
    "dir_next = 'value_counts/'\n",
    "create_file_path(dir_base, dir_next)"
   ]
  },
  {
   "cell_type": "code",
   "execution_count": null,
   "id": "b061b47d-add0-4254-971c-b5fa3fc5071a",
   "metadata": {
    "tags": []
   },
   "outputs": [],
   "source": [
    "for column in df.columns:\n",
    "    print('\\n')\n",
    "    # print('Column: ', column)\n",
    "    file_name = 'value_counts_{}'.format(column)\n",
    "    file_format = '.csv'\n",
    "    path_input = create_file_input(dir_base, dir_next, file_name, file_format)\n",
    "    df[column].value_counts().to_csv(path_input)"
   ]
  },
  {
   "cell_type": "code",
   "execution_count": null,
   "id": "c06602e5-da27-4326-9a14-c3c6a96c10d5",
   "metadata": {
    "tags": []
   },
   "outputs": [],
   "source": [
    "print(path_input)"
   ]
  },
  {
   "cell_type": "code",
   "execution_count": null,
   "id": "056b3e8e-a610-4c8f-afa8-59b682a08acf",
   "metadata": {
    "tags": []
   },
   "outputs": [],
   "source": [
    "%%time\n",
    "### Declare Variables\n",
    "time0 = time()\n",
    "counter = 1\n",
    "S = 2000\n",
    "M = (2, 1000)\n",
    "bool_print_times = True\n",
    "dic_harmonic_outputs = {}\n",
    "for k in range(M[0], M[1]+1):\n",
    "    dic_harmonic_outputs[k] = []\n",
    "    for n in range(1, S+1):\n",
    "        ss = harmonicK(K=k, N=n)\n",
    "        dic_harmonic_outputs[k].append(ss)\n",
    "    if counter % 100 == 0:\n",
    "        print_times(incounter=counter, mod_value = 100, intime=time0)\n",
    "        counter += 1\n",
    "print_times(incounter=counter, mod_value = 100, intime=time0)\n",
    "df_harmonic_multiples = pd.DataFrame(dic_harmonic_outputs)\n",
    "ax = plt.axes()\n",
    "# plt.legend(loc=\"upper left\")\n",
    "# ax.set_facecolor('blue')\n",
    "ax.set_facecolor((1., 0.8, 0.42))\n",
    "ax.plot(df_harmonic_multiples, c= 'black')\n",
    "ax.plot(np.arange(1, S), np.log(np.arange(1,S)+2), c='red')\n",
    "ax.set_xlim([1025, 1030])\n",
    "ax.set_ylim([7.4, 8])\n",
    "plt.show()"
   ]
  },
  {
   "cell_type": "code",
   "execution_count": null,
   "id": "c1f60c13-8f77-4d13-8581-3a17a5ab6561",
   "metadata": {},
   "outputs": [],
   "source": []
  }
 ],
 "metadata": {
  "kernelspec": {
   "display_name": "Python 3 (ipykernel)",
   "language": "python",
   "name": "python3"
  },
  "language_info": {
   "codemirror_mode": {
    "name": "ipython",
    "version": 3
   },
   "file_extension": ".py",
   "mimetype": "text/x-python",
   "name": "python",
   "nbconvert_exporter": "python",
   "pygments_lexer": "ipython3",
   "version": "3.11.5"
  }
 },
 "nbformat": 4,
 "nbformat_minor": 5
}
